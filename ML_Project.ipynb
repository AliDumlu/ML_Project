{
 "cells": [
  {
   "cell_type": "markdown",
   "source": [
    "# Machine Learning Project - First Draft\n",
    "\n",
    "## Introduction\n",
    "In this project, we aim to develop different models throughout different classification techniques that counts the number of raised fingers, and which hand is used. Finger detection and counting is an important feature of many computer vision applications, it could be used as a beginning for translating sign language, and the future of hand gestures is very promising, like the hand gestures that google tried to implement in their pixel phone. We used Python to code our models and we used a dataset(fingers) made by 'koryakinp' which is on Kaggle.\n",
    "\n",
    "\n",
    "\n",
    "---\n",
    "## Dataset description\n",
    "21600 images of left and right hands fingers.\n",
    "### Images specification\n",
    "1.   All images are 128 by 128 pixels.\n",
    "2.   Training set: 18000 images.\n",
    "3.   Test set: 3600 images.\n",
    "4.   Images are centered by the center of mass.\n",
    "5.   Noise pattern on the background.\n",
    "\n",
    "### Labels\n",
    "Labels are in 2 last characters of a file name. L/R indicates left/right hand; 0,1,2,3,4,5 indicates number of fingers.\n",
    "\n",
    "The dataset is available on kaggle.\n",
    "<br>Dataset url: https://www.kaggle.com/koryakinp/fingers\n",
    "\n",
    "## Classification techniques to be applied on the selected dataset:\n",
    "1. Logistic regression\n",
    "2. KNN\n",
    "3. Multilayer perceptron (MLP)\n",
    "4. Naive Bayes\n",
    "5. Support vector machine (SVM)\n",
    "6. Decision tree\n",
    "---\n",
    "---\n",
    "\n",
    "## Clustering techniques to be applied on the selected dataset:\n",
    "1. K-means\n"
   ],
   "metadata": {
    "collapsed": false
   }
  },
  {
   "cell_type": "markdown",
   "source": [
    "# Data Preproccesing"
   ],
   "metadata": {
    "collapsed": false
   }
  },
  {
   "cell_type": "code",
   "execution_count": null,
   "outputs": [],
   "source": [
    "import os\n",
    "data_train_dir = 'train/'\n",
    "data_test_dir = 'test/'\n",
    "\n",
    "# A list to store the paths of training examples\n",
    "train_paths = []\n",
    "# A list to store the paths of training labels\n",
    "train_labels = []\n",
    "\n",
    "# Loop over all the files(image) in the train dir\n",
    "for filename in os.listdir(data_train_dir):\n",
    "    # Add the path of the file(image) to the list\n",
    "    train_paths.append(data_train_dir+filename)\n",
    "    # Extract the label of the image from the path\n",
    "    whole_label = filename.split('_')[1]\n",
    "    # Remove the file format(.png) from the label\n",
    "    useful_label = whole_label.split('.')[0]\n",
    "    # Add the label to the list\n",
    "    train_labels.append(useful_label)\n",
    "\n",
    "print(\"Number of train paths: \", len(train_paths))\n",
    "print(\"First 6 labels: \", train_labels[:6])\n",
    "\n",
    "# A list to store the paths of testing examples\n",
    "test_paths = []\n",
    "# A list to store the paths of testing labels\n",
    "test_labels = []\n",
    "\n",
    "# Loop over all the files(image) in the test dir\n",
    "# to extract the paths and the labels\n",
    "for filename in os.listdir(data_test_dir):\n",
    "\n",
    "    test_paths.append(data_test_dir+filename)\n",
    "    whole_label = filename.split('_')[1]\n",
    "    useful_label = whole_label.split('.')[0]\n",
    "    test_labels.append(useful_label)\n",
    "\n",
    "print(\"Number of test paths: \", len(test_paths))\n",
    "print(\"First 6 labels: \", test_labels[:6])"
   ],
   "metadata": {
    "collapsed": false,
    "pycharm": {
     "name": "#%%\n"
    }
   }
  },
  {
   "cell_type": "code",
   "execution_count": null,
   "outputs": [],
   "source": [
    "from tensorflow.keras.preprocessing.image import load_img\n",
    "import matplotlib.pyplot as plt\n",
    "# Check first image in the train_paths\n",
    "# Load the image\n",
    "img = load_img(train_paths[0])\n",
    "# Report details about the image\n",
    "print(type(img))\n",
    "print(img.format)\n",
    "print(img.mode)\n",
    "print(img.size)\n",
    "# Show the image\n",
    "plt.imshow(img)\n",
    "plt.title(train_labels[0], fontsize = 20)\n",
    "plt.show()"
   ],
   "metadata": {
    "collapsed": false,
    "pycharm": {
     "name": "#%%\n"
    }
   }
  },
  {
   "cell_type": "code",
   "execution_count": null,
   "outputs": [],
   "source": [
    "# Check first image in the test_paths\n",
    "# load the image\n",
    "img = load_img(test_paths[0])\n",
    "# report details about the image\n",
    "print(type(img))\n",
    "print(img.format)\n",
    "print(img.mode)\n",
    "print(img.size)\n",
    "# show the image\n",
    "plt.imshow(img)\n",
    "plt.title(test_labels[0], fontsize = 20)\n",
    "plt.show()"
   ],
   "metadata": {
    "collapsed": false,
    "pycharm": {
     "name": "#%%\n"
    }
   }
  },
  {
   "cell_type": "code",
   "execution_count": null,
   "outputs": [],
   "source": [
    "from keras.preprocessing.image import img_to_array\n",
    "import numpy as np\n",
    "\n",
    "X_train, X_test = [],[]\n",
    "\n",
    "# Loop over all the paths in train_paths\n",
    "for image_path in train_paths:\n",
    "    # Load the image\n",
    "    image = load_img(image_path)\n",
    "    # Convert the image into an array# Load the image\n",
    "    image_array = img_to_array(image)\n",
    "    # Flatten the array (make it one-dimensional)\n",
    "    image_array = image_array.flatten()\n",
    "    # Append the image into the X_train list\n",
    "    X_train.append(image_array)\n",
    "\n",
    "# Loop over all the paths in test_paths\n",
    "for image_path in test_paths:\n",
    "    # Load the image\n",
    "    image = load_img(image_path)\n",
    "    # Convert the image into an array# Load the image\n",
    "    image_array = img_to_array(image)\n",
    "    # Flatten the array (make it one-dimensional)\n",
    "    image_array = image_array.flatten()\n",
    "    # Append the image into the X_test list\n",
    "    X_test.append(image_array)\n",
    "\n",
    "# Convert X_train and X_test lists to numpy arrays\n",
    "X_train = np.array(X_train)\n",
    "X_test = np.array(X_test)"
   ],
   "metadata": {
    "collapsed": false,
    "pycharm": {
     "name": "#%%\n"
    }
   }
  },
  {
   "cell_type": "code",
   "execution_count": null,
   "outputs": [],
   "source": [
    "# Check the shapes of X_train and X_test\n",
    "print(\"Shape of X_train: \", X_train.shape)\n",
    "print(\"Shape of X_test: \", X_test.shape)"
   ],
   "metadata": {
    "collapsed": false,
    "pycharm": {
     "name": "#%%\n"
    }
   }
  },
  {
   "cell_type": "code",
   "execution_count": null,
   "outputs": [],
   "source": [
    "# Encode the textual labels (e.g: 0L,2R,...) with numerical values between\n",
    "# zeros and number of classes - 1\n",
    "from sklearn.preprocessing import LabelEncoder\n",
    "\n",
    "encoder  = LabelEncoder()\n",
    "# Fit label encoder to train labels\n",
    "encoder.fit(train_labels)\n",
    "# Print the label for each class\n",
    "print(list(encoder.classes_))\n",
    "# Transform labels to normalized encoding\n",
    "Y_train = encoder.transform(train_labels)\n",
    "Y_test = encoder.transform(test_labels)"
   ],
   "metadata": {
    "collapsed": false,
    "pycharm": {
     "name": "#%%\n"
    }
   }
  },
  {
   "cell_type": "code",
   "execution_count": null,
   "outputs": [],
   "source": [
    "from sklearn.preprocessing import StandardScaler\n",
    "scaler = StandardScaler()\n",
    "scaler.fit(X_train,Y_train)\n",
    "X_train = scaler.transform(X_train)\n",
    "X_test = scaler.transform(X_test)\n"
   ],
   "metadata": {
    "collapsed": false,
    "pycharm": {
     "name": "#%%\n"
    }
   }
  },
  {
   "cell_type": "markdown",
   "source": [
    "# Classification Models"
   ],
   "metadata": {
    "collapsed": false
   }
  },
  {
   "cell_type": "markdown",
   "source": [
    "## Logistic regression\n",
    "In this section we are going to implement a logistic regression model to classify a given hand image based on the number of fingers in that image."
   ],
   "metadata": {
    "collapsed": false
   }
  },
  {
   "cell_type": "code",
   "execution_count": null,
   "outputs": [],
   "source": [
    "from sklearn.linear_model import LogisticRegression\n",
    "logistic_regression_model = LogisticRegression(max_iter=10000,C=0.5)\n",
    "logistic_regression_model.fit(X_train,Y_train)"
   ],
   "metadata": {
    "collapsed": false,
    "pycharm": {
     "name": "#%%\n"
    }
   }
  },
  {
   "cell_type": "code",
   "execution_count": null,
   "outputs": [],
   "source": [
    "acc = logistic_regression_model.score(X_test,Y_test)\n",
    "print(acc)"
   ],
   "metadata": {
    "collapsed": false,
    "pycharm": {
     "name": "#%%\n"
    }
   }
  },
  {
   "cell_type": "code",
   "execution_count": null,
   "outputs": [],
   "source": [
    "Y_pred = logistic_regression_model.predict(X_test)"
   ],
   "metadata": {
    "collapsed": false,
    "pycharm": {
     "name": "#%%\n"
    }
   }
  },
  {
   "cell_type": "code",
   "execution_count": null,
   "outputs": [],
   "source": [
    "Y_pred"
   ],
   "metadata": {
    "collapsed": false,
    "pycharm": {
     "name": "#%%\n"
    }
   }
  },
  {
   "cell_type": "code",
   "execution_count": null,
   "outputs": [],
   "source": [
    "from sklearn import metrics\n",
    "acc = metrics.accuracy_score(Y_test,Y_pred)\n",
    "print('Accuracy = ', acc)"
   ],
   "metadata": {
    "collapsed": false,
    "pycharm": {
     "name": "#%%\n"
    }
   }
  },
  {
   "cell_type": "code",
   "execution_count": null,
   "outputs": [],
   "source": [
    "recall = metrics.recall_score(Y_test,Y_pred,average='micro')\n",
    "print('Recall = ', recall)"
   ],
   "metadata": {
    "collapsed": false,
    "pycharm": {
     "name": "#%%\n"
    }
   }
  },
  {
   "cell_type": "code",
   "execution_count": null,
   "outputs": [],
   "source": [
    "precision = metrics.precision_score(Y_test,Y_pred,average='micro')\n",
    "print('Precision = ', precision)"
   ],
   "metadata": {
    "collapsed": false,
    "pycharm": {
     "name": "#%%\n"
    }
   }
  },
  {
   "cell_type": "code",
   "execution_count": null,
   "outputs": [],
   "source": [
    "from joblib import dump\n",
    "dump(logistic_regression_model,'logistic_regression_model.joblib')"
   ],
   "metadata": {
    "collapsed": false,
    "pycharm": {
     "name": "#%%\n"
    }
   }
  },
  {
   "cell_type": "markdown",
   "source": [
    "## Decision Tree\n",
    "In this section we are going to implement a decision tree model to classify a given hand image based on the number of fingers in that image."
   ],
   "metadata": {
    "collapsed": false
   }
  },
  {
   "cell_type": "code",
   "execution_count": null,
   "outputs": [],
   "source": [
    "from sklearn.tree import DecisionTreeClassifier\n",
    "decision_tree_classifier = DecisionTreeClassifier(max_leaf_nodes=12)\n",
    "decision_tree_classifier.fit(X_train,Y_train)\n"
   ],
   "metadata": {
    "collapsed": false,
    "pycharm": {
     "name": "#%%\n"
    }
   }
  },
  {
   "cell_type": "code",
   "execution_count": null,
   "outputs": [],
   "source": [
    "Y_pred_DT = decision_tree_classifier.predict(X_test)"
   ],
   "metadata": {
    "collapsed": false,
    "pycharm": {
     "name": "#%%\n"
    }
   }
  },
  {
   "cell_type": "code",
   "execution_count": null,
   "outputs": [],
   "source": [
    "Y_pred_DT"
   ],
   "metadata": {
    "collapsed": false,
    "pycharm": {
     "name": "#%%\n"
    }
   }
  },
  {
   "cell_type": "code",
   "execution_count": null,
   "outputs": [],
   "source": [
    "from sklearn import metrics\n",
    "acc = metrics.accuracy_score(Y_test,Y_pred_DT)\n",
    "print('Accuracy = ', acc)"
   ],
   "metadata": {
    "collapsed": false,
    "pycharm": {
     "name": "#%%\n"
    }
   }
  },
  {
   "cell_type": "code",
   "execution_count": null,
   "outputs": [],
   "source": [
    "recall = metrics.recall_score(Y_test,Y_pred_DT,average='micro')\n",
    "print('Recall = ', recall)"
   ],
   "metadata": {
    "collapsed": false,
    "pycharm": {
     "name": "#%%\n"
    }
   }
  },
  {
   "cell_type": "code",
   "execution_count": null,
   "outputs": [],
   "source": [
    "precision = metrics.precision_score(Y_test,Y_pred_DT,average='micro')\n",
    "print('Precision = ', precision)"
   ],
   "metadata": {
    "collapsed": false,
    "pycharm": {
     "name": "#%%\n"
    }
   }
  },
  {
   "cell_type": "code",
   "execution_count": null,
   "outputs": [],
   "source": [
    "dump(decision_tree_classifier,'decision_tree_classifier.joblib')"
   ],
   "metadata": {
    "collapsed": false,
    "pycharm": {
     "name": "#%%\n"
    }
   }
  },
  {
   "cell_type": "markdown",
   "source": [
    "## Multi-layer Perceptron\n",
    "In this section we are going to implement a multi-layer perceptron model to classify a given hand image based on the number of fingers in that image."
   ],
   "metadata": {
    "collapsed": false
   }
  },
  {
   "cell_type": "code",
   "execution_count": null,
   "outputs": [],
   "source": [
    "from tensorflow.keras.models import Sequential\n",
    "from tensorflow.keras.layers import Dense\n",
    "\n",
    "MLP_classifier = Sequential()\n",
    "MLP_classifier.add(Dense(300, activation=\"relu\"))\n",
    "MLP_classifier.add(Dense(100, activation=\"relu\"))\n",
    "MLP_classifier.add(Dense(12, activation=\"softmax\"))\n",
    "MLP_classifier.compile(loss=\"categorical_crossentropy\", optimizer=\"SGD\", metrics=[\"accuracy\"])\n"
   ],
   "metadata": {
    "collapsed": false,
    "pycharm": {
     "name": "#%%\n"
    }
   }
  },
  {
   "cell_type": "code",
   "execution_count": null,
   "outputs": [],
   "source": [
    "from tensorflow.keras.utils import to_categorical\n",
    "y_train_categorical = to_categorical(Y_train,12)\n",
    "y_test_categorical = to_categorical(Y_test,12)\n",
    "history = MLP_classifier.fit(X_train, y_train_categorical, epochs=1000, batch_size=18, validation_data=(X_test, y_test_categorical), verbose=0)\n",
    "_, acc = MLP_classifier.evaluate(X_test, y_test_categorical, verbose=0)\n",
    "print('> %.3f' % (acc * 100.0))"
   ],
   "metadata": {
    "collapsed": false,
    "pycharm": {
     "name": "#%%\n"
    }
   }
  },
  {
   "cell_type": "code",
   "execution_count": null,
   "outputs": [],
   "source": [
    "# Save the MLP classifier\n",
    "MLP_classifier.save('MLP_classifier.h5')"
   ],
   "metadata": {
    "collapsed": false,
    "pycharm": {
     "name": "#%%\n"
    }
   }
  },
  {
   "cell_type": "markdown",
   "source": [
    "## K Nearest Neighbors (KNN)\n",
    "In this section we are going to implement a k nearest neighbors (knn) model to classify a given hand image based on the number of fingers in that image."
   ],
   "metadata": {
    "collapsed": false
   }
  },
  {
   "cell_type": "code",
   "execution_count": null,
   "outputs": [],
   "source": [
    "from sklearn.neighbors import KNeighborsClassifier\n",
    "\n",
    "knn_classifier = KNeighborsClassifier(n_neighbors=11)\n",
    "knn_classifier.fit(X_train,Y_train)"
   ],
   "metadata": {
    "collapsed": false,
    "pycharm": {
     "name": "#%%\n"
    }
   }
  },
  {
   "cell_type": "code",
   "execution_count": null,
   "outputs": [],
   "source": [
    "Y_pred_knn = knn_classifier.predict(X_test)\n",
    "Y_pred_knn"
   ],
   "metadata": {
    "collapsed": false,
    "pycharm": {
     "name": "#%%\n"
    }
   }
  },
  {
   "cell_type": "code",
   "execution_count": null,
   "outputs": [],
   "source": [
    "from sklearn import metrics\n",
    "acc = metrics.accuracy_score(Y_test,Y_pred_knn)\n",
    "print('Accuracy = ', acc)"
   ],
   "metadata": {
    "collapsed": false,
    "pycharm": {
     "name": "#%%\n"
    }
   }
  },
  {
   "cell_type": "code",
   "execution_count": null,
   "outputs": [],
   "source": [
    "recall = metrics.recall_score(Y_test,Y_pred_knn,average='micro')\n",
    "print('Recall = ', recall)"
   ],
   "metadata": {
    "collapsed": false,
    "pycharm": {
     "name": "#%%\n"
    }
   }
  },
  {
   "cell_type": "code",
   "execution_count": null,
   "outputs": [],
   "source": [
    "precision = metrics.precision_score(Y_test,Y_pred_knn,average='micro')\n",
    "print('Precision = ', precision)"
   ],
   "metadata": {
    "collapsed": false,
    "pycharm": {
     "name": "#%%\n"
    }
   }
  },
  {
   "cell_type": "code",
   "execution_count": null,
   "outputs": [],
   "source": [
    "from joblib import dump\n",
    "dump(knn_classifier,'knn_classifier.joblib')"
   ],
   "metadata": {
    "collapsed": false,
    "pycharm": {
     "name": "#%%\n"
    }
   }
  },
  {
   "cell_type": "markdown",
   "source": [
    "## Gaussian Naive Bayes (GaussianNB)\n",
    "In this section we are going to implement a Gaussian Naive Bayes (GaussianNB) model to classify a given hand image based on the number of fingers in that image."
   ],
   "metadata": {
    "collapsed": false
   }
  },
  {
   "cell_type": "code",
   "execution_count": null,
   "outputs": [],
   "source": [
    "from sklearn.naive_bayes import GaussianNB\n",
    "\n",
    "gnb_classifier = GaussianNB()\n",
    "gnb_classifier.fit(X_train,Y_train)"
   ],
   "metadata": {
    "collapsed": false,
    "pycharm": {
     "name": "#%%\n"
    }
   }
  },
  {
   "cell_type": "code",
   "execution_count": null,
   "outputs": [],
   "source": [
    "Y_pred_gnb = gnb_classifier.predict(X_test)\n",
    "Y_pred_gnb"
   ],
   "metadata": {
    "collapsed": false,
    "pycharm": {
     "name": "#%%\n"
    }
   }
  },
  {
   "cell_type": "code",
   "execution_count": null,
   "outputs": [],
   "source": [
    "from sklearn import metrics\n",
    "acc = metrics.accuracy_score(Y_test,Y_pred_gnb)\n",
    "print('Accuracy = ', acc)"
   ],
   "metadata": {
    "collapsed": false,
    "pycharm": {
     "name": "#%%\n"
    }
   }
  },
  {
   "cell_type": "code",
   "execution_count": null,
   "outputs": [],
   "source": [
    "recall = metrics.recall_score(Y_test,Y_pred_gnb,average='micro')\n",
    "print('Recall = ', recall)"
   ],
   "metadata": {
    "collapsed": false,
    "pycharm": {
     "name": "#%%\n"
    }
   }
  },
  {
   "cell_type": "code",
   "execution_count": null,
   "outputs": [],
   "source": [
    "precision = metrics.precision_score(Y_test,Y_pred_gnb,average='micro')\n",
    "print('Precision = ', precision)"
   ],
   "metadata": {
    "collapsed": false,
    "pycharm": {
     "name": "#%%\n"
    }
   }
  },
  {
   "cell_type": "code",
   "execution_count": null,
   "outputs": [],
   "source": [
    "from joblib import dump\n",
    "dump(gnb_classifier,'gnb_classifier.joblib')"
   ],
   "metadata": {
    "collapsed": false,
    "pycharm": {
     "name": "#%%\n"
    }
   }
  },
  {
   "cell_type": "markdown",
   "source": [
    "## Support Vector Machine (SVM)\n",
    "In this section we are going to implement a Support Vector Machine (SVM) model to classify a given hand image based on the number of fingers in that image."
   ],
   "metadata": {
    "collapsed": false
   }
  },
  {
   "cell_type": "code",
   "execution_count": null,
   "outputs": [],
   "source": [
    "from sklearn.svm import LinearSVC\n",
    "\n",
    "svm_classifier = LinearSVC()\n",
    "svm_classifier.fit(X_train,Y_train)"
   ],
   "metadata": {
    "collapsed": false,
    "pycharm": {
     "name": "#%%\n"
    }
   }
  },
  {
   "cell_type": "code",
   "execution_count": null,
   "outputs": [],
   "source": [
    "Y_pred_svm = svm_classifier.predict(X_test)\n",
    "Y_pred_svm"
   ],
   "metadata": {
    "collapsed": false,
    "pycharm": {
     "name": "#%%\n"
    }
   }
  },
  {
   "cell_type": "code",
   "execution_count": null,
   "outputs": [],
   "source": [
    "from sklearn import metrics\n",
    "acc = metrics.accuracy_score(Y_test,Y_pred_svm)\n",
    "print('Accuracy = ', acc)"
   ],
   "metadata": {
    "collapsed": false,
    "pycharm": {
     "name": "#%%\n"
    }
   }
  },
  {
   "cell_type": "code",
   "execution_count": null,
   "outputs": [],
   "source": [
    "recall = metrics.recall_score(Y_test,Y_pred_svm,average='micro')\n",
    "print('Recall = ', recall)"
   ],
   "metadata": {
    "collapsed": false,
    "pycharm": {
     "name": "#%%\n"
    }
   }
  },
  {
   "cell_type": "code",
   "execution_count": null,
   "outputs": [],
   "source": [
    "precision = metrics.precision_score(Y_test,Y_pred_svm,average='micro')\n",
    "print('Precision = ', precision)"
   ],
   "metadata": {
    "collapsed": false,
    "pycharm": {
     "name": "#%%\n"
    }
   }
  },
  {
   "cell_type": "code",
   "execution_count": null,
   "outputs": [],
   "source": [
    "from joblib import dump\n",
    "dump(svm_classifier,'svm_classifier.joblib')"
   ],
   "metadata": {
    "collapsed": false,
    "pycharm": {
     "name": "#%%\n"
    }
   }
  },
  {
   "cell_type": "markdown",
   "source": [
    "# Clustering Models"
   ],
   "metadata": {
    "collapsed": false
   }
  },
  {
   "cell_type": "markdown",
   "source": [
    "## K-Means\n",
    "In this section we are going to implement a K-Means model to classify a given hand image based on the number of fingers in that image."
   ],
   "metadata": {
    "collapsed": false
   }
  },
  {
   "cell_type": "code",
   "execution_count": null,
   "outputs": [],
   "source": [
    "from sklearn.cluster import KMeans\n",
    "\n",
    "kmeans_classifier = KMeans(12)\n",
    "kmeans_classifier.fit(X_train,Y_train)"
   ],
   "metadata": {
    "collapsed": false,
    "pycharm": {
     "name": "#%%\n"
    }
   }
  },
  {
   "cell_type": "code",
   "execution_count": null,
   "outputs": [],
   "source": [
    "Y_pred_svm = kmeans_classifier.predict(X_test)\n",
    "Y_pred_svm"
   ],
   "metadata": {
    "collapsed": false,
    "pycharm": {
     "name": "#%%\n"
    }
   }
  },
  {
   "cell_type": "code",
   "execution_count": null,
   "outputs": [],
   "source": [
    "from sklearn import metrics\n",
    "acc = metrics.accuracy_score(Y_test,Y_pred_svm)\n",
    "print('Accuracy = ', acc)"
   ],
   "metadata": {
    "collapsed": false,
    "pycharm": {
     "name": "#%%\n"
    }
   }
  },
  {
   "cell_type": "code",
   "execution_count": null,
   "outputs": [],
   "source": [
    "recall = metrics.recall_score(Y_test,Y_pred_svm,average='micro')\n",
    "print('Recall = ', recall)"
   ],
   "metadata": {
    "collapsed": false,
    "pycharm": {
     "name": "#%%\n"
    }
   }
  },
  {
   "cell_type": "code",
   "execution_count": null,
   "outputs": [],
   "source": [
    "precision = metrics.precision_score(Y_test,Y_pred_svm,average='micro')\n",
    "print('Precision = ', precision)"
   ],
   "metadata": {
    "collapsed": false,
    "pycharm": {
     "name": "#%%\n"
    }
   }
  },
  {
   "cell_type": "code",
   "execution_count": null,
   "outputs": [],
   "source": [
    "from joblib import dump\n",
    "dump(kmeans_classifier,'kmeans_classifier.joblib')"
   ],
   "metadata": {
    "collapsed": false,
    "pycharm": {
     "name": "#%%\n"
    }
   }
  },
  {
   "cell_type": "markdown",
   "source": [
    "## Load the models"
   ],
   "metadata": {
    "collapsed": false
   }
  },
  {
   "cell_type": "code",
   "execution_count": null,
   "outputs": [],
   "source": [
    "from joblib import load\n",
    "from tensorflow.keras.models import load_model\n",
    "MLP = load_model('C:\\\\Users\\\\Ali\\\\MLP_classifier.h5')\n",
    "logistic_regression = load('logistic_regression_model.joblib')\n",
    "DT = load('decision_tree_classifier.joblib')\n",
    "# The model size is 10Gb so it could takes some time and RAM space\n",
    "# KNN = load('knn_classifier.joblib')\n",
    "GNB = load('gnb_classifier.joblib')\n",
    "SVM = load('svm_classifier.joblib')"
   ],
   "metadata": {
    "collapsed": false,
    "pycharm": {
     "name": "#%%\n"
    }
   }
  },
  {
   "cell_type": "markdown",
   "source": [
    "# Principal component analysis (PCA)"
   ],
   "metadata": {
    "collapsed": false,
    "pycharm": {
     "name": "#%% md\n"
    }
   }
  }
 ],
 "metadata": {
  "kernelspec": {
   "name": "adversarialdefense",
   "language": "python",
   "display_name": "AdversarialDefense"
  },
  "language_info": {
   "codemirror_mode": {
    "name": "ipython",
    "version": 2
   },
   "file_extension": ".py",
   "mimetype": "text/x-python",
   "name": "python",
   "nbconvert_exporter": "python",
   "pygments_lexer": "ipython2",
   "version": "2.7.6"
  }
 },
 "nbformat": 4,
 "nbformat_minor": 0
}